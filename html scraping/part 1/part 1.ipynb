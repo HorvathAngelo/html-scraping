{
 "cells": [
  {
   "cell_type": "code",
   "execution_count": 1,
   "id": "ca7160dc-1980-4f97-8ec8-9d4891f6f455",
   "metadata": {},
   "outputs": [
    {
     "name": "stdout",
     "output_type": "stream",
     "text": [
      "{'title': \"NASA Releases Independent Review's Mars Sample Return Report\", 'preview': 'The agency established the board in May 2023 to evaluate the technical, cost, and schedule plans prior to confirmation of the mission’s design.'}\n",
      "{'title': 'NASA InSight Study Provides Clearest Look Ever at Martian Core', 'preview': 'A pair of quakes in 2021 sent seismic waves deep into the Red Planet’s core, giving scientists the best data yet on its size and composition.'}\n",
      "{'title': \"NASA's Perseverance Rover Completes Mars Sample Depot\", 'preview': 'Ten sample tubes, capturing an amazing variety of Martian geology, have been deposited on Mars’ surface so they could be studied on Earth in the future.'}\n",
      "{'title': \"NASA's Perseverance Rover Deposits First Sample on Mars Surface\", 'preview': 'Filled with rock, the sample tube will be one of 10 forming a depot of tubes that could be considered for a journey to Earth by the Mars Sample Return campaign.'}\n",
      "{'title': 'NASA Retires InSight Mars Lander Mission After Years of Science', 'preview': 'The mission has concluded that the solar-powered lander has run out of energy after more than four years on the Red Planet.'}\n",
      "{'title': \"NASA's Perseverance Rover to Begin Building Martian Sample Depot\", 'preview': 'The 10 sample tubes being dropped on Mars’ surface so they can be studied on Earth in the future carry an amazing diversity of Red Planet geology.'}\n"
     ]
    }
   ],
   "source": [
    "import requests\n",
    "from bs4 import BeautifulSoup\n",
    "import json\n",
    "\n",
    "# URL of the Mars News website\n",
    "url = 'https://mars.nasa.gov/news/'\n",
    "\n",
    "# Send a GET request to the URL\n",
    "response = requests.get(url)\n",
    "\n",
    "# Check if the request was successful (status code 200)\n",
    "if response.status_code == 200:\n",
    "    # Parse the HTML content of the page\n",
    "    soup = BeautifulSoup(response.text, 'html.parser')\n",
    "    \n",
    "    # Find HTML elements containing titles and preview text\n",
    "    articles = soup.find_all('div', class_='slide')\n",
    "    \n",
    "    # List to store dictionaries\n",
    "    news_list = []\n",
    "    \n",
    "    # Iterate through each article\n",
    "    for article in articles:\n",
    "        # Extract title and preview text\n",
    "        title = article.find('div', class_='content_title').text.strip()\n",
    "        preview = article.find('div', class_='rollover_description_inner').text.strip()\n",
    "        \n",
    "        # Create a dictionary for each article\n",
    "        news_dict = {'title': title, 'preview': preview}\n",
    "        \n",
    "        # Append the dictionary to the list\n",
    "        news_list.append(news_dict)\n",
    "    \n",
    "    # Print the list in the notebook\n",
    "    for news in news_list:\n",
    "        print(news)\n",
    "    \n",
    "    # Optionally, export the scraped data to a JSON file\n",
    "    with open('mars_news.json', 'w') as json_file:\n",
    "        json.dump(news_list, json_file, indent=2)\n",
    "\n",
    "else:\n",
    "    print(f\"Error: Unable to fetch the webpage. Status code: {response.status_code}\")\n"
   ]
  },
  {
   "cell_type": "code",
   "execution_count": null,
   "id": "501e5d5f-efa0-44f7-b716-c00051764e15",
   "metadata": {},
   "outputs": [],
   "source": []
  }
 ],
 "metadata": {
  "kernelspec": {
   "display_name": "Python 3 (ipykernel)",
   "language": "python",
   "name": "python3"
  },
  "language_info": {
   "codemirror_mode": {
    "name": "ipython",
    "version": 3
   },
   "file_extension": ".py",
   "mimetype": "text/x-python",
   "name": "python",
   "nbconvert_exporter": "python",
   "pygments_lexer": "ipython3",
   "version": "3.10.9"
  }
 },
 "nbformat": 4,
 "nbformat_minor": 5
}
